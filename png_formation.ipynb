{
 "cells": [
  {
   "cell_type": "markdown",
   "metadata": {},
   "source": [
    "# Creating png's of our computed visualizations"
   ]
  },
  {
   "cell_type": "code",
   "execution_count": 10,
   "metadata": {},
   "outputs": [],
   "source": [
    "from PIL import Image, ImageDraw, ImageFont"
   ]
  },
  {
   "cell_type": "code",
   "execution_count": 5,
   "metadata": {},
   "outputs": [],
   "source": [
    "def get_concat_h(im1, im2):\n",
    "    dst = Image.new('RGB', (im1.width + im2.width, im1.height))\n",
    "    dst.paste(im1, (0, 0))\n",
    "    dst.paste(im2, (im1.width, 0))\n",
    "    return dst\n",
    "\n",
    "def get_concat_v(im1, im2):\n",
    "    dst = Image.new('RGB', (im1.width, im1.height + im2.height))\n",
    "    dst.paste(im1, (0, 0))\n",
    "    dst.paste(im2, (0, im1.height))\n",
    "    return dst"
   ]
  },
  {
   "cell_type": "markdown",
   "metadata": {},
   "source": [
    "## 59 Street Columbus Circle"
   ]
  },
  {
   "cell_type": "code",
   "execution_count": 26,
   "metadata": {},
   "outputs": [],
   "source": [
    "# Create description of ridership, hard-coded from http://web.mta.info/nyct/facts/ridership/\n",
    "img = Image.new('RGB', (400, 300), color = (73, 109, 137))\n",
    "fnt = ImageFont.truetype('/Library/Fonts/Arial.ttf', 36)\n",
    "fnt2 = ImageFont.truetype('/Library/Fonts/Arial.ttf', 20)\n",
    "d = ImageDraw.Draw(img)\n",
    "d.text((10,10), \"59 St Columbus Circle\", font=fnt, fill=(255, 255, 0))\n",
    "d.text((10,50), \"Average weekday ridership in 2018: 73,003\",font = fnt2)\n",
    "d.text((10,70), \"Average weekend ridership in 2018: 81,271\", font = fnt2)\n",
    "d.text((10,90), \"Community District Manhattan 4\", font = fnt2)\n",
    "d.text((10,110), \"Transit District 1\", font = fnt2)\n",
    "img.save('pil_text_font.png')\n",
    "\n",
    "# Images that are used for all of them\n",
    "income = Image.open('IncomeViz/IManhattan4.png').resize((400,300))\n",
    "sightings = Image.open('sightings/59stcolumbuscircle.png')\n",
    "get_concat_h(img,sightings).save('toprow.png')\n",
    "\n",
    "# Gender\n",
    "cd_gender = Image.open('GenderViz/GManhattan4.png')\n",
    "td_gender_arrests = Image.open('chronologicalgraphs/ArrestsG/ArrestsG0.png')\n",
    "td_gender_summons = Image.open('chronologicalgraphs/SummonsG/SummonsG0.png')\n",
    "get_concat_h(td_gender_arrests,td_gender_summons).save('midrow.png')\n",
    "get_concat_h(cd_gender.resize((390,300)),income).save('bottomrow.png')\n",
    "get_concat_v(Image.open('toprow.png'),Image.open('midrow.png')).save('toptwo.png')\n",
    "get_concat_v(Image.open('toptwo.png'),Image.open('bottomrow.png')).save('popups/G59stcolumbuscircle.png')\n",
    "\n",
    "\n",
    "\n",
    "# Age\n",
    "cd_age = Image.open('AgeViz/AManhattan4.png')\n",
    "td_age_arrests = Image.open('chronologicalgraphs/ArrestsA/ArrestsA0.png')\n",
    "td_age_summonses = Image.open('chronologicalgraphs/SummonsA/SummonsA0.png')\n",
    "get_concat_h(td_age_arrests,td_age_summonses).save('midrow.png')\n",
    "get_concat_h(cd_age.resize((390,300)),income).save('bottomrow.png')\n",
    "get_concat_v(Image.open('toprow.png'),Image.open('midrow.png')).save('toptwo.png')\n",
    "get_concat_v(Image.open('toptwo.png'),Image.open('bottomrow.png')).save('popups/A59stcolumbuscircle.png')\n",
    "\n",
    "# Race\n",
    "cd_race = Image.open('RaceViz/RManhattan4.png')\n",
    "td_race_arrests = Image.open('chronologicalgraphs/ArrestsR/ArrestsR0.png').resize((370,300))\n",
    "td_race_summonses = Image.open('chronologicalgraphs/SummonsR/SummonsR0.png')\n",
    "get_concat_h(td_race_arrests,td_race_summonses).save('midrow.png')\n",
    "get_concat_h(cd_race.resize((390,300)),income).save('bottomrow.png')\n",
    "get_concat_v(Image.open('toprow.png'),Image.open('midrow.png')).save('toptwo.png')\n",
    "get_concat_v(Image.open('toptwo.png'),Image.open('bottomrow.png')).save('popups/R59stcolumbuscircle.png')\n"
   ]
  },
  {
   "cell_type": "code",
   "execution_count": 8,
   "metadata": {},
   "outputs": [],
   "source": []
  },
  {
   "cell_type": "code",
   "execution_count": null,
   "metadata": {},
   "outputs": [],
   "source": []
  }
 ],
 "metadata": {
  "kernelspec": {
   "display_name": "Python 3",
   "language": "python",
   "name": "python3"
  },
  "language_info": {
   "codemirror_mode": {
    "name": "ipython",
    "version": 3
   },
   "file_extension": ".py",
   "mimetype": "text/x-python",
   "name": "python",
   "nbconvert_exporter": "python",
   "pygments_lexer": "ipython3",
   "version": "3.7.3"
  }
 },
 "nbformat": 4,
 "nbformat_minor": 2
}
